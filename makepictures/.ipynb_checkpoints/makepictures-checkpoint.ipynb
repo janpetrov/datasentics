{
 "cells": [
  {
   "cell_type": "markdown",
   "id": "4f5b5838-d103-4a2f-8673-dde3b6b1016d",
   "metadata": {},
   "source": [
    "# Scrape some text from Wikipedia"
   ]
  },
  {
   "cell_type": "code",
   "execution_count": 1,
   "id": "6af2966b-76b4-4ea4-b1cb-30bc436396a2",
   "metadata": {},
   "outputs": [],
   "source": [
    "# ! pip install wikipedia\n",
    "\n",
    "import wikipedia\n",
    "import re\n",
    "\n",
    "def wiki_download(name):\n",
    "    wiki = wikipedia.page(name)\n",
    "    text = wiki.content\n",
    "    text = re.sub(r'==.*?==+', '', text)\n",
    "    text = text.replace('\\n\\n\\n', '\\n')\n",
    "    return text\n",
    "    \n",
    "text = wiki_download('Abraham Lincoln')\n",
    "text_split = text.strip().split()"
   ]
  },
  {
   "cell_type": "markdown",
   "id": "f5a3e10c-f77e-444f-9bb5-9e0f1ef1b0ba",
   "metadata": {},
   "source": [
    "# Generate some images"
   ]
  },
  {
   "cell_type": "code",
   "execution_count": 8,
   "id": "6ca8ff6f-8c14-485e-b6a5-1a8f13fa34b6",
   "metadata": {},
   "outputs": [
    {
     "data": {
      "image/png": "[encoded data removed]",
      "text/plain": [
       "<PIL.Image.Image image mode=RGB size=800x1131>"
      ]
     },
     "metadata": {},
     "output_type": "display_data"
    }
   ],
   "source": [
    "from PIL import Image, ImageDraw, ImageFont\n",
    "import math\n",
    "import random\n",
    "from typing import Union, Tuple\n",
    "\n",
    "class GenerateImage:\n",
    "    def __init__(self, text_split, width = 800, ratio = 2 ** 0.5) -> None:\n",
    "        self.text_split = text_split\n",
    "        self.text_idx = 0\n",
    "        self.width = width\n",
    "        self.height = int(width * ratio)\n",
    "        self.image = Image.new('RGB', size=(width, self.height), color=(250,250,250))  # A4\n",
    "        self.draw = ImageDraw.Draw(self.image)\n",
    "        self.font = ImageFont.truetype('fonts/Roboto-Italic', 12)\n",
    "        self.blocks = []\n",
    "\n",
    "    def get_block_coordinates(self):\n",
    "        block_width_fraction = 0.3 + random.random() * 0.4\n",
    "        block_width = int(self.width * block_width_fraction)\n",
    "\n",
    "        block_height_fraction = 0.2 + random.random() * 0.4\n",
    "        block_height = int(self.height * block_height_fraction)\n",
    "\n",
    "        remaining_width = self.width - block_width\n",
    "        remaining_height = self.height - block_height\n",
    "\n",
    "        x_pos = random.randint(0, remaining_width)\n",
    "        y_pos = random.randint(0, remaining_height)\n",
    "        \n",
    "        return [(x_pos, y_pos), (x_pos+block_width, y_pos+block_height)]\n",
    "    \n",
    "    def print_line(self, origin: Tuple[int, int], \n",
    "                   remaining_width: int, remaining_height: int) -> Union[int, None]:\n",
    "        \"\"\"_summary_\n",
    "        Args:\n",
    "            origin: x, y coordinates of top-left corner of the line\n",
    "            remaining_width: width of line for typesetting words in pixels\n",
    "            remaining_height: remaining pixels in the bounding box\n",
    "                do not draw any text if the line height exceeds remaining_height\n",
    "        Returns:\n",
    "            height of the drawn line, None if drawing the line was not possible\n",
    "        \"\"\"\n",
    "        end_idx = self.text_idx\n",
    "        success_end_idx, success_height = None, None\n",
    "        for end_idx in range(self.text_idx + 1, len(self.text_split) + 1):\n",
    "            sub_text = ' '.join(self.text_split[self.text_idx: end_idx])\n",
    "            text_width, text_height = self.draw.textsize(sub_text, font=self.font)\n",
    "            if text_height > remaining_height:\n",
    "                return None\n",
    "            elif text_width > remaining_width:\n",
    "                break\n",
    "            else:\n",
    "                success_height = text_height\n",
    "                success_end_idx = end_idx\n",
    "                remaining_width -= text_width\n",
    "        if success_end_idx is None:\n",
    "            return None\n",
    "        else:\n",
    "            sub_text = ' '.join(self.text_split[self.text_idx: success_end_idx])\n",
    "            x, y = origin\n",
    "            self.draw.text(origin, sub_text, font=self.font, fill=(40,40,40))\n",
    "            \n",
    "    \n",
    "    def print_text(self):\n",
    "        (x0, y0), (x1, y1) = self.get_block_coordinates()\n",
    "        block_width = x1 - x0 + 1\n",
    "        block_height = y1 - y0 + 1\n",
    "        current_y = y0\n",
    "        while True:\n",
    "            current_line_height = self.print_line(origin=(x0, current_y), \n",
    "                                                  remaining_width=block_width,\n",
    "                                                  remaining_height=block_height - current_y)\n",
    "            if current_line_height is None:\n",
    "                break\n",
    "            else:\n",
    "                current_y += current_line_height\n",
    "\n",
    "\n",
    "g = GenerateImage(text_split)\n",
    "g.print_text()\n",
    "g.draw.text((10,10), 'lorem ipsum', font=g.font, fill=(40,40,40))\n",
    "display(g.image)"
   ]
  }
 ],
 "metadata": {
  "kernelspec": {
   "display_name": "Python 3.9.12 64-bit",
   "language": "python",
   "name": "python3"
  },
  "language_info": {
   "codemirror_mode": {
    "name": "ipython",
    "version": 3
   },
   "file_extension": ".py",
   "mimetype": "text/x-python",
   "name": "python",
   "nbconvert_exporter": "python",
   "pygments_lexer": "ipython3",
   "version": "3.9.12"
  },
  "vscode": {
   "interpreter": {
    "hash": "7f949c5ff85ada089c6fab19959675067538b67d3580dc20f79d295fafccb9ff"
   }
  }
 },
 "nbformat": 4,
 "nbformat_minor": 5
}
